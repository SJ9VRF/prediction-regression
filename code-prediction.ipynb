{
 "cells": [
  {
   "cell_type": "code",
   "execution_count": 182,
   "metadata": {},
   "outputs": [],
   "source": [
    "from sklearn.model_selection import train_test_split"
   ]
  },
  {
   "cell_type": "code",
   "execution_count": 183,
   "metadata": {},
   "outputs": [],
   "source": [
    "main_path = \"/Users/arefeh/Downloads/Edi uni/\"\n",
    "data_train_add = main_path + \"train.csv\"\n",
    "data_test_add = main_path + \"test.csv\""
   ]
  },
  {
   "cell_type": "code",
   "execution_count": 184,
   "metadata": {},
   "outputs": [],
   "source": [
    "def read_data_from_file(add):\n",
    "    with open(add, 'r') as f:\n",
    "        data = f.readlines()\n",
    "    data = [item.replace('\\n','').split(',') for item in data]\n",
    "    col_name = data[0]\n",
    "    value = data[1:]\n",
    "    value = [ [float(jtem) for jtem in item] for item in value ]\n",
    "\n",
    "    return col_name, value"
   ]
  },
  {
   "cell_type": "code",
   "execution_count": 185,
   "metadata": {},
   "outputs": [],
   "source": [
    "col_train, data_train = read_data_from_file(data_train_add)\n",
    "Y_train = [item[-1] for item in data_train]\n",
    "data_train = [item[:-1] for item in data_train]\n",
    "col_test,  data_test  = read_data_from_file(data_test_add)"
   ]
  },
  {
   "cell_type": "code",
   "execution_count": 186,
   "metadata": {},
   "outputs": [
    {
     "name": "stdout",
     "output_type": "stream",
     "text": [
      "1000\n",
      "1000\n",
      "500\n",
      "[2.906, -0.766, 1.002, -0.2, 1.186, 2.185, 0.046]\n",
      "[-2.996, -0.799, 0.521, 0.779, -2.498, 0.392, 2.129]\n"
     ]
    }
   ],
   "source": [
    "#just for check the shape of data\n",
    "print(len(Y_train))\n",
    "print(len(data_train))\n",
    "print(len(data_test))\n",
    "print(max(data_test))\n",
    "print(min(data_test))"
   ]
  },
  {
   "cell_type": "code",
   "execution_count": 187,
   "metadata": {},
   "outputs": [],
   "source": [
    "X_train, X_test, y_train, y_test = train_test_split(data_train, Y_train, test_size=0.33, random_state=42)"
   ]
  },
  {
   "cell_type": "code",
   "execution_count": 188,
   "metadata": {},
   "outputs": [],
   "source": [
    "import numpy as np\n",
    "from sklearn.linear_model import LinearRegression\n",
    "from sklearn.metrics import mean_squared_error"
   ]
  },
  {
   "cell_type": "markdown",
   "metadata": {},
   "source": [
    "# LinearRegression"
   ]
  },
  {
   "cell_type": "code",
   "execution_count": 189,
   "metadata": {},
   "outputs": [
    {
     "name": "stdout",
     "output_type": "stream",
     "text": [
      "mean_squared_error :23.48236382839804\n"
     ]
    }
   ],
   "source": [
    "model = LinearRegression().fit(data_train, Y_train)\n",
    "y_pred = model.predict(data_train)\n",
    "print( \"mean_squared_error :\" + str(mean_squared_error(Y_train, y_pred)))"
   ]
  },
  {
   "cell_type": "code",
   "execution_count": 190,
   "metadata": {},
   "outputs": [
    {
     "name": "stdout",
     "output_type": "stream",
     "text": [
      "mean_squared_error on Train:23.367390218191222\n",
      "mean_squared_error on Test:24.182698243573952\n"
     ]
    }
   ],
   "source": [
    "model = LinearRegression().fit(X_train, y_train)\n",
    "y_pred = model.predict(X_train)\n",
    "print( \"mean_squared_error on Train:\" + str(mean_squared_error(y_train, y_pred)))\n",
    "y_pred = model.predict(X_test)\n",
    "print( \"mean_squared_error on Test:\" + str(mean_squared_error(y_test, y_pred)))"
   ]
  },
  {
   "cell_type": "markdown",
   "metadata": {},
   "source": [
    "# Polynominal Regression"
   ]
  },
  {
   "cell_type": "code",
   "execution_count": 191,
   "metadata": {},
   "outputs": [],
   "source": [
    "from sklearn.preprocessing import PolynomialFeatures"
   ]
  },
  {
   "cell_type": "code",
   "execution_count": 192,
   "metadata": {},
   "outputs": [
    {
     "name": "stdout",
     "output_type": "stream",
     "text": [
      "1\n",
      "mean_squared_error on Train:23.367390218191222\n",
      "mean_squared_error on Test:24.182698243573952\n",
      "2\n",
      "mean_squared_error on Train:0.14980086843286022\n",
      "mean_squared_error on Test:0.14068348758657293\n",
      "3\n",
      "mean_squared_error on Train:0.12319473552984711\n",
      "mean_squared_error on Test:0.18736807635804187\n",
      "4\n",
      "mean_squared_error on Train:0.07168757814318588\n",
      "mean_squared_error on Test:0.48718844115238746\n",
      "5\n",
      "mean_squared_error on Train:9.741735566832327e-27\n",
      "mean_squared_error on Test:92.31477939157776\n",
      "6\n",
      "mean_squared_error on Train:3.6764219465472325e-26\n",
      "mean_squared_error on Test:142.4613338521302\n",
      "7\n",
      "mean_squared_error on Train:3.1256893755655894e-25\n",
      "mean_squared_error on Test:688.7158597280535\n",
      "8\n",
      "mean_squared_error on Train:4.058211948199682e-24\n",
      "mean_squared_error on Test:5068.0892261571435\n",
      "9\n",
      "mean_squared_error on Train:4.0881954092586073e-23\n",
      "mean_squared_error on Test:24734.865883571216\n"
     ]
    }
   ],
   "source": [
    "for D in range(1,10):    \n",
    "    transformer = PolynomialFeatures(degree=D, include_bias=False)\n",
    "    x_ = transformer.fit_transform(X_train)\n",
    "    x_test_ = transformer.fit_transform(X_test)\n",
    "    model = LinearRegression().fit(x_, y_train)\n",
    "    y_pred = model.predict(x_)\n",
    "    print(D)\n",
    "    print( \"mean_squared_error on Train:\" + str(mean_squared_error(y_train, y_pred)))\n",
    "    y_pred = model.predict(x_test_)\n",
    "    print( \"mean_squared_error on Test:\" + str(mean_squared_error(y_test, y_pred)))"
   ]
  },
  {
   "cell_type": "markdown",
   "metadata": {},
   "source": [
    "The best model in D = 2"
   ]
  },
  {
   "cell_type": "code",
   "execution_count": 193,
   "metadata": {},
   "outputs": [
    {
     "data": {
      "text/plain": [
       "[0.566, -1.686, 0.189, 0.998, -1.512, -0.3, -0.351]"
      ]
     },
     "execution_count": 193,
     "metadata": {},
     "output_type": "execute_result"
    }
   ],
   "source": [
    "X_test[0]"
   ]
  },
  {
   "cell_type": "code",
   "execution_count": 194,
   "metadata": {},
   "outputs": [
    {
     "name": "stdout",
     "output_type": "stream",
     "text": [
      "2\n",
      "mean_squared_error on Train:0.14980086843286022\n",
      "mean_squared_error on Test:0.14068348758657293\n"
     ]
    }
   ],
   "source": [
    "D = 2\n",
    "transformer = PolynomialFeatures(degree=D, include_bias=False)\n",
    "x_ = transformer.fit_transform(X_train)\n",
    "x_test_ = transformer.fit_transform(X_test)\n",
    "model = LinearRegression().fit(x_, y_train)\n",
    "y_pred = model.predict(x_)\n",
    "print(D)\n",
    "print( \"mean_squared_error on Train:\" + str(mean_squared_error(y_train, y_pred)))\n",
    "y_pred = model.predict(x_test_)\n",
    "print( \"mean_squared_error on Test:\" + str(mean_squared_error(y_test, y_pred)))"
   ]
  },
  {
   "cell_type": "code",
   "execution_count": 195,
   "metadata": {},
   "outputs": [],
   "source": [
    "x_test_test = transformer.fit_transform(data_test)\n",
    "y_pred_data_test = model.predict(x_test_test)"
   ]
  },
  {
   "cell_type": "code",
   "execution_count": 196,
   "metadata": {},
   "outputs": [],
   "source": [
    "#final result file\n",
    "test_prediction_add = main_path + \"predict.csv\"\n",
    "result = [str(item)+',' for item in list(y_pred_data_test)]\n",
    "with open(test_prediction_add, 'w') as f:\n",
    "    for item in result:\n",
    "        f.write(item)"
   ]
  },
  {
   "cell_type": "code",
   "execution_count": null,
   "metadata": {},
   "outputs": [],
   "source": []
  }
 ],
 "metadata": {
  "kernelspec": {
   "display_name": "Python 3",
   "language": "python",
   "name": "python3"
  },
  "language_info": {
   "codemirror_mode": {
    "name": "ipython",
    "version": 3
   },
   "file_extension": ".py",
   "mimetype": "text/x-python",
   "name": "python",
   "nbconvert_exporter": "python",
   "pygments_lexer": "ipython3",
   "version": "3.6.8"
  }
 },
 "nbformat": 4,
 "nbformat_minor": 2
}
